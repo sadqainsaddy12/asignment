{
 "cells": [
  {
   "cell_type": "code",
   "execution_count": 1,
   "metadata": {},
   "outputs": [
    {
     "name": "stdout",
     "output_type": "stream",
     "text": [
      "Twinkle, twinkle, little star,\n",
      "            \t\t        How I wonder what you are!\n",
      "                   \t\tUp above the world so high,\n",
      "                   \t\tLike a diamond in the sky.\n",
      "      \t         Twinkle, twinkle, little star,\n",
      "            \t\t       How I wonder what you are\n",
      "3.7.3 | packaged by conda-forge | (default, Jul  1 2019, 21:52:21) \n",
      "[GCC 7.3.0]\n",
      "Thu Nov  7 10:33:22 2019\n"
     ]
    },
    {
     "name": "stdin",
     "output_type": "stream",
     "text": [
      "Enter radius of the circle :  21\n"
     ]
    },
    {
     "name": "stdout",
     "output_type": "stream",
     "text": [
      "The area of the circle with radius 21.0 is: 1385.4423602330987\n"
     ]
    },
    {
     "name": "stdin",
     "output_type": "stream",
     "text": [
      " sadqain\n",
      " zafar\n"
     ]
    },
    {
     "name": "stdout",
     "output_type": "stream",
     "text": [
      "rafaz niaqdas\n"
     ]
    },
    {
     "name": "stdin",
     "output_type": "stream",
     "text": [
      " 4\n",
      " 14\n"
     ]
    },
    {
     "name": "stdout",
     "output_type": "stream",
     "text": [
      "18\n"
     ]
    }
   ],
   "source": [
    "\n",
    "# 1: Write a Python program to print the following string in a specific format.\n",
    "\n",
    "Task = '''Twinkle, twinkle, little star,\n",
    "            \t\t        How I wonder what you are!\n",
    "                   \t\tUp above the world so high,\n",
    "                   \t\tLike a diamond in the sky.\n",
    "      \t         Twinkle, twinkle, little star,\n",
    "            \t\t       How I wonder what you are'''\n",
    "print(Task)\n",
    "\n",
    "\n",
    "\n",
    "#2: Write a Python program to get the Python version you are using.\n",
    "\n",
    "import sys\n",
    "print(sys.version)\n",
    "\n",
    "\n",
    "\n",
    "#3: Write a Python program to display the current date and time.\n",
    "\n",
    "import datetime\n",
    "DT = datetime.datetime.now()\n",
    "print(DT.strftime(\"%c\"))\n",
    "\n",
    "\n",
    "\n",
    "\n",
    "\n",
    "\n",
    "#4: Write a Python program which accepts the radius of a circle from the user and compute the area.\n",
    "\n",
    "from math import pi\n",
    "radius = float(input (\"Enter radius of the circle : \"))\n",
    "print (\"The area of the circle with radius \" + str(radius) + \" is: \" + str(pi * radius**2))\n",
    "\n",
    "\n",
    "\n",
    "#5. Write a Python program which accepts the user's first and last name and\n",
    "#print them in reverse order with a space between them.\n",
    "\n",
    "firstname = input()\n",
    "lastname = input()\n",
    "fullname = firstname +\" \"+ lastname\n",
    "print(fullname [::-1])\n",
    "\n",
    "\n",
    "\n",
    "#6. Write a python program which takes two inputs from user and print them\n",
    "#Addition\n",
    "\n",
    "value1=int(input())\n",
    "value2=int(input())\n",
    "print(value1+value2)\n",
    "\n",
    "\n"
   ]
  },
  {
   "cell_type": "code",
   "execution_count": null,
   "metadata": {},
   "outputs": [],
   "source": []
  }
 ],
 "metadata": {
  "kernelspec": {
   "display_name": "Python 3",
   "language": "python",
   "name": "python3"
  },
  "language_info": {
   "codemirror_mode": {
    "name": "ipython",
    "version": 3
   },
   "file_extension": ".py",
   "mimetype": "text/x-python",
   "name": "python",
   "nbconvert_exporter": "python",
   "pygments_lexer": "ipython3",
   "version": "3.7.3"
  }
 },
 "nbformat": 4,
 "nbformat_minor": 4
}
